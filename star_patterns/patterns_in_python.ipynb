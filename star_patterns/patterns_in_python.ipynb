{
 "cells": [
  {
   "cell_type": "markdown",
   "id": "cd185a58",
   "metadata": {},
   "source": [
    "# STAR PATTERN USING PYTHON"
   ]
  },
  {
   "cell_type": "code",
   "execution_count": 50,
   "id": "8965d7e7",
   "metadata": {},
   "outputs": [
    {
     "name": "stdout",
     "output_type": "stream",
     "text": [
      "*\n",
      "**\n",
      "***\n",
      "****\n",
      "*****\n",
      "******\n",
      "*******\n",
      "********\n"
     ]
    }
   ],
   "source": [
    "n=8\n",
    "for i in range(0,n):\n",
    "    print(\"*\"*(i+1))"
   ]
  },
  {
   "cell_type": "code",
   "execution_count": 49,
   "id": "ec36fbef",
   "metadata": {},
   "outputs": [
    {
     "name": "stdout",
     "output_type": "stream",
     "text": [
      "       *\n",
      "      **\n",
      "     ***\n",
      "    ****\n",
      "   *****\n",
      "  ******\n",
      " *******\n",
      "********\n"
     ]
    }
   ],
   "source": [
    "n=8\n",
    "for i in range(0,n):\n",
    "    print(\" \"*(n-i-1)+\"*\"*(i+1))"
   ]
  },
  {
   "cell_type": "code",
   "execution_count": 47,
   "id": "ccc0bd4c",
   "metadata": {},
   "outputs": [
    {
     "name": "stdout",
     "output_type": "stream",
     "text": [
      "********\n",
      "*******\n",
      "******\n",
      "*****\n",
      "****\n",
      "***\n",
      "**\n",
      "*\n"
     ]
    }
   ],
   "source": [
    "n=8\n",
    "for i in range(0,n):\n",
    "    print(\"*\"*(n-i))"
   ]
  },
  {
   "cell_type": "code",
   "execution_count": 44,
   "id": "2570477f",
   "metadata": {},
   "outputs": [
    {
     "name": "stdout",
     "output_type": "stream",
     "text": [
      "********\n",
      " *******\n",
      "  ******\n",
      "   *****\n",
      "    ****\n",
      "     ***\n",
      "      **\n",
      "       *\n"
     ]
    }
   ],
   "source": [
    "n=8\n",
    "for i in range(0,n):\n",
    "    print(\" \"*(i)+ \"*\"*(n-i))"
   ]
  },
  {
   "cell_type": "code",
   "execution_count": 43,
   "id": "094f5c73",
   "metadata": {},
   "outputs": [
    {
     "name": "stdout",
     "output_type": "stream",
     "text": [
      "       * \n",
      "      * * \n",
      "     * * * \n",
      "    * * * * \n",
      "   * * * * * \n",
      "  * * * * * * \n",
      " * * * * * * * \n",
      "* * * * * * * * \n"
     ]
    }
   ],
   "source": [
    "# Triangle star patter\n",
    "n=8\n",
    "for i in range(0,n):\n",
    "    print(\" \"*(n-i-1)+\"* \"*(i+1))"
   ]
  },
  {
   "cell_type": "code",
   "execution_count": 42,
   "id": "978306b8",
   "metadata": {},
   "outputs": [
    {
     "name": "stdout",
     "output_type": "stream",
     "text": [
      " * * * * * * * * \n",
      "  * * * * * * * \n",
      "   * * * * * * \n",
      "    * * * * * \n",
      "     * * * * \n",
      "      * * * \n",
      "       * * \n",
      "        * \n"
     ]
    }
   ],
   "source": [
    "# downward triangle star pattern\n",
    "n=8\n",
    "for i in range(0,n):\n",
    "    print(\" \"*(i),\"* \"*(n-i))"
   ]
  },
  {
   "cell_type": "code",
   "execution_count": 41,
   "id": "b676e67e",
   "metadata": {},
   "outputs": [
    {
     "name": "stdout",
     "output_type": "stream",
     "text": [
      "       * \n",
      "      * * \n",
      "     * * * \n",
      "    * * * * \n",
      "   * * * * * \n",
      "  * * * * * * \n",
      " * * * * * * * \n",
      "* * * * * * * * \n",
      " * * * * * * * \n",
      "  * * * * * * \n",
      "   * * * * * \n",
      "    * * * * \n",
      "     * * * \n",
      "      * * \n",
      "       * \n",
      "        \n"
     ]
    }
   ],
   "source": [
    "n=8\n",
    "for i in range(0,n):\n",
    "    print(\" \"*(n-i-1)+\"* \"*(i+1))\n",
    "for i in range(0,n):\n",
    "    print(\" \"*(i+1)+\"* \"*(n-i-1))"
   ]
  },
  {
   "cell_type": "code",
   "execution_count": 40,
   "id": "73b6e2a4",
   "metadata": {},
   "outputs": [
    {
     "name": "stdout",
     "output_type": "stream",
     "text": [
      "**********\n",
      "*        *\n",
      "*        *\n",
      "*        *\n",
      "*        *\n",
      "*        *\n",
      "*        *\n",
      "*        *\n",
      "*        *\n",
      "**********\n"
     ]
    }
   ],
   "source": [
    "n=10\n",
    "for i in range(0,n):\n",
    "    if(i==0 or i==(n-1)):\n",
    "        print(\"*\"*n)\n",
    "    else:\n",
    "        print(\"*\"+(\" \"*(n-2))+\"*\")"
   ]
  },
  {
   "cell_type": "code",
   "execution_count": 39,
   "id": "65081506",
   "metadata": {},
   "outputs": [
    {
     "name": "stdout",
     "output_type": "stream",
     "text": [
      "********************\n",
      "*********  *********\n",
      "********    ********\n",
      "*******      *******\n",
      "******        ******\n",
      "*****          *****\n",
      "****            ****\n",
      "***              ***\n",
      "**                **\n",
      "*                  *\n"
     ]
    }
   ],
   "source": [
    "n=10\n",
    "for i in range(0,n):\n",
    "    if i==0:\n",
    "        print(\"*\"*n*2)\n",
    "    else:\n",
    "        print(\"*\"*(n-i)+\"  \"*i+\"*\"*(n-i))"
   ]
  },
  {
   "cell_type": "code",
   "execution_count": 37,
   "id": "cdac0412",
   "metadata": {},
   "outputs": [
    {
     "name": "stdout",
     "output_type": "stream",
     "text": [
      "********************\n",
      "*********  *********\n",
      "********    ********\n",
      "*******      *******\n",
      "******        ******\n",
      "*****          *****\n",
      "****            ****\n",
      "***              ***\n",
      "**                **\n",
      "*                  *\n",
      "*                  *\n",
      "**                **\n",
      "***              ***\n",
      "****            ****\n",
      "*****          *****\n",
      "******        ******\n",
      "*******      *******\n",
      "********    ********\n",
      "*********  *********\n",
      "********************\n"
     ]
    }
   ],
   "source": [
    "n=10\n",
    "for i in range(0,n):\n",
    "        print(\"*\"*(n-i)+\"  \"*i+\"*\"*(n-i))\n",
    "for i in range(0,n):\n",
    "        print(\"*\"*(i+1)+\"  \"*(n-i-1)+\"*\"*(i+1))"
   ]
  },
  {
   "cell_type": "code",
   "execution_count": 36,
   "id": "a7e7ca9f",
   "metadata": {},
   "outputs": [
    {
     "name": "stdout",
     "output_type": "stream",
     "text": [
      " *\n",
      "  **\n",
      "   ***\n",
      "    ****\n",
      "     *****\n",
      "      ******\n",
      "       *******\n",
      "        ********\n",
      "       *******\n",
      "      ******\n",
      "     *****\n",
      "    ****\n",
      "   ***\n",
      "  **\n",
      " *\n",
      "\n"
     ]
    }
   ],
   "source": [
    "n=8\n",
    "for i in range(0,n):\n",
    "    print(\" \"*(i+1)+\"*\"*(i+1))\n",
    "for i in range(0,n):\n",
    "    print(\" \"*(n-i-1)+\"*\"*(n-i-1))"
   ]
  },
  {
   "cell_type": "code",
   "execution_count": 35,
   "id": "87cfa9df",
   "metadata": {},
   "outputs": [
    {
     "name": "stdout",
     "output_type": "stream",
     "text": [
      "         *\n",
      "        * *\n",
      "       *   *\n",
      "      *     *\n",
      "     *       *\n",
      "    *         *\n",
      "   *           *\n",
      "  *             *\n",
      " *               *\n",
      "* * * * * * * * * * \n"
     ]
    }
   ],
   "source": [
    "# Important star pattern\n",
    "n=10\n",
    "print(\" \"*(n-1)+\"*\")\n",
    "for i in range(0,n-2):\n",
    "        print( \" \"*(n-i-2)+\"*\",\"  \"*(i)+\"*\")\n",
    "print(\"* \"*(n))"
   ]
  },
  {
   "cell_type": "code",
   "execution_count": 34,
   "id": "dbc2948d",
   "metadata": {},
   "outputs": [
    {
     "name": "stdout",
     "output_type": "stream",
     "text": [
      "* * * * * * * * * * * * * * * * * * * \n",
      " * * * * * * * * * * * * * * * * * * \n",
      "  * * * * * * * *   * * * * * * * * \n",
      "   * * * * * * *     * * * * * * * \n",
      "    * * * * * *       * * * * * * \n",
      "     * * * * *         * * * * * \n",
      "      * * * *           * * * * \n",
      "       * * *             * * * \n",
      "        * *               * * \n",
      "         * * * * * * * * * * \n",
      "          * * * * * * * * * \n",
      "           * * * * * * * * \n",
      "            * * * * * * * \n",
      "             * * * * * * \n",
      "              * * * * * \n",
      "               * * * * \n",
      "                * * * \n",
      "                 * * \n",
      "                  * \n"
     ]
    }
   ],
   "source": [
    "n=10\n",
    "print(\"* \"*((n*2)-1))                                 #first line stars\n",
    "for i in range(0,n-2):\n",
    "        print(\" \"*((i+1)) + \"* \"*((n-i-2)),end=\"\")    #first two triangles (\" \",*)\n",
    "        print( \"*\",\"  \"*(i)+\"* \",end=\"\")              #border triangle\n",
    "        print(\"* \"*(n-i-2))                           #2nd down star triangle\n",
    "print(\" \"*(n-1)+\"* \"*n)                               #mid line stars\n",
    "for i in range(0,n-1):\n",
    "        print(\" \"*((n))+ \" \"*((i))+\"* \"*((n-i-1)))    #(\" \",\" \")are the spaces and * is the lower down star triangle"
   ]
  }
 ],
 "metadata": {
  "kernelspec": {
   "display_name": "Python 3 (ipykernel)",
   "language": "python",
   "name": "python3"
  },
  "language_info": {
   "codemirror_mode": {
    "name": "ipython",
    "version": 3
   },
   "file_extension": ".py",
   "mimetype": "text/x-python",
   "name": "python",
   "nbconvert_exporter": "python",
   "pygments_lexer": "ipython3",
   "version": "3.11.3"
  }
 },
 "nbformat": 4,
 "nbformat_minor": 5
}
