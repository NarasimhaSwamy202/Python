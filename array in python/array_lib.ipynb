{
 "cells": [
  {
   "cell_type": "markdown",
   "id": "e7388efd",
   "metadata": {},
   "source": [
    "# Python array library"
   ]
  },
  {
   "cell_type": "code",
   "execution_count": 54,
   "id": "e864bba8",
   "metadata": {},
   "outputs": [
    {
     "name": "stdout",
     "output_type": "stream",
     "text": [
      "array('i', [0, 1, 2, 3, 4, 5, 6, 7, 8, 9])\n",
      "The new created array is :  1 2 3 \n",
      "\n",
      "The new created array is :  2.5 3.2 3.3 \n",
      "\n",
      "i\n",
      "d\n",
      "u\n"
     ]
    }
   ],
   "source": [
    "# Python program to demonstrate\n",
    "# Creation of Array\n",
    "\n",
    "# importing \"array\" for array creations\n",
    "import array as arr\n",
    "\n",
    "list1 = list(range(0,10))\n",
    "a1 = arr.array(\"i\",list1)\n",
    "print(a1)\n",
    "\n",
    "# creating an array with integer type\n",
    "a = arr.array('i', [1, 2, 3])\n",
    "afloat = arr.array('d', [1.1, 2.2, 3.3])\n",
    "astr = arr.array('u', ['a', 'b', 'c'])\n",
    "\n",
    "# printing original array\n",
    "print(\"The new created array is : \", end=\" \")\n",
    "for i in range(0, 3):\n",
    "\tprint(a[i], end=\" \")\n",
    "print()\n",
    "\n",
    "# creating an array with double type\n",
    "b = arr.array('d', [2.5, 3.2, 3.3])\n",
    "\n",
    "# printing original array\n",
    "print(\"\\nThe new created array is : \", end=\" \")\n",
    "for i in range(len(a)):\n",
    "\tprint(b[i], end=\" \")\n",
    "print('\\n')\n",
    "\n",
    "# typecode\n",
    "print(a.typecode)\n",
    "print(afloat.typecode)\n",
    "print(astr.typecode)"
   ]
  },
  {
   "cell_type": "code",
   "execution_count": 35,
   "id": "396cca79",
   "metadata": {},
   "outputs": [
    {
     "name": "stdout",
     "output_type": "stream",
     "text": [
      "Access element is:  1\n",
      "Access element is:  4\n",
      "Access element is:  3.2\n",
      "Access element is:  3.3\n"
     ]
    }
   ],
   "source": [
    "# Python program to demonstrate\n",
    "# accessing of element from list\n",
    "\n",
    "# importing array module\n",
    "import array as arr\n",
    "\n",
    "# array with int type\n",
    "a = arr.array('i', [1, 2, 3, 4, 5, 6])\n",
    "\n",
    "# accessing element of array\n",
    "print(\"Access element is: \", a[0])\n",
    "\n",
    "# accessing element of array\n",
    "print(\"Access element is: \", a[3])\n",
    "\n",
    "# array with float type\n",
    "b = arr.array('d', [2.5, 3.2, 3.3])\n",
    "\n",
    "# accessing element of array\n",
    "print(\"Access element is: \", b[1])\n",
    "\n",
    "# accessing element of array\n",
    "print(\"Access element is: \", b[2])\n"
   ]
  },
  {
   "cell_type": "code",
   "execution_count": 34,
   "id": "f967b718",
   "metadata": {},
   "outputs": [
    {
     "name": "stdout",
     "output_type": "stream",
     "text": [
      "Array before insertion :  1 2 3 \n",
      "Array after insertion :  1 4 2 3 \n",
      "Array before insertion :  2.5 3.2 3.3 \n",
      "Array after insertion :  2.5 3.2 3.3 4.4 \n"
     ]
    }
   ],
   "source": [
    "# Python program to demonstrate\n",
    "# Adding Elements to a Array\n",
    "\n",
    "# importing \"array\" for array creations\n",
    "import array as arr\n",
    "\n",
    "# array with int type\n",
    "a = arr.array('i', [1, 2, 3])\n",
    "\n",
    "\n",
    "print(\"Array before insertion : \", end=\" \")\n",
    "for i in range(0, 3):\n",
    "\tprint(a[i], end=\" \")\n",
    "print()\n",
    "\n",
    "# inserting array using\n",
    "# insert() function----it require two arguments index and value\n",
    "a.insert(1, 4)\n",
    "\n",
    "print(\"Array after insertion : \", end=\" \")\n",
    "for i in (a):\n",
    "\tprint(i, end=\" \")\n",
    "print()\n",
    "\n",
    "# array with float type\n",
    "b = arr.array('d', [2.5, 3.2, 3.3])\n",
    "\n",
    "print(\"Array before insertion : \", end=\" \")\n",
    "for i in range(0, 3):\n",
    "\tprint(b[i], end=\" \")\n",
    "print()\n",
    "\n",
    "# adding an element using append()-----it require only one argument i.e value\n",
    "b.append(4.4)\n",
    "\n",
    "print(\"Array after insertion : \", end=\" \")\n",
    "for i in (b):\n",
    "\tprint(i, end=\" \")\n",
    "print()\n"
   ]
  },
  {
   "cell_type": "code",
   "execution_count": 60,
   "id": "3a127bab",
   "metadata": {},
   "outputs": [
    {
     "name": "stdout",
     "output_type": "stream",
     "text": [
      "The new created array is : 1 2 3 1 5 \r\n",
      "The popped element is : 3\n",
      "The array after popping is : 1 2 1 5 \r\n",
      "The array after removing is : 1 5 "
     ]
    }
   ],
   "source": [
    "# Python program to demonstrate\n",
    "# Removal of elements in a Array\n",
    "\n",
    "# importing \"array\" for array operations\n",
    "import array\n",
    "\n",
    "# initializing array with array values\n",
    "# initializes array with signed integers\n",
    "arr = array.array('i', [1, 2, 3, 1, 5])\n",
    "\n",
    "# printing original array\n",
    "print(\"The new created array is : \", end=\"\")\n",
    "for i in range(0, 5):\n",
    "\tprint(arr[i], end=\" \")\n",
    "\n",
    "print(\"\\r\")\n",
    "\n",
    "# using pop() to remove element at 2nd position\n",
    "print(\"The popped element is : \", end=\"\")\n",
    "print(arr.pop(2))\n",
    "\n",
    "# printing array after popping\n",
    "print(\"The array after popping is : \", end=\"\")\n",
    "for i in range(0, 4):\n",
    "\tprint(arr[i], end=\" \")\n",
    "\n",
    "print(\"\\r\")\n",
    "\n",
    "# using remove() to remove 1st occurrence of 1\n",
    "arr.remove(1)\n",
    "arr.remove(2)\n",
    "\n",
    "# printing array after removing\n",
    "print(\"The array after removing is : \", end=\"\")\n",
    "for i in range(len(arr)):\n",
    "\tprint(arr[i], end=\" \")\n"
   ]
  },
  {
   "cell_type": "code",
   "execution_count": 81,
   "id": "8456c767",
   "metadata": {},
   "outputs": [
    {
     "name": "stdout",
     "output_type": "stream",
     "text": [
      "Initial Array: \n",
      "1 2 3 4 5 6 7 8 9 10 \n",
      "Slicing elements in a range 3-8: \n",
      "array('i', [4, 5, 6, 7, 8])\n",
      "\n",
      "Elements sliced from 5th element till the end: \n",
      "array('i', [6, 7, 8, 9, 10])\n",
      "\n",
      "Printing all elements using slice operation: \n",
      "array('i', [1, 2, 3, 4, 5, 6, 7, 8, 9, 10])\n",
      "array('i', [3, 4, 5, 6, 7, 8, 9])\n"
     ]
    }
   ],
   "source": [
    "# Python program to demonstrate\n",
    "# slicing of elements in a Array\n",
    "\n",
    "# importing array module\n",
    "import array as arr\n",
    "\n",
    "# creating a list\n",
    "l = [1, 2, 3, 4, 5, 6, 7, 8, 9, 10]\n",
    "\n",
    "a = arr.array('i', l)\n",
    "print(\"Initial Array: \")\n",
    "for i in (a):\n",
    "\tprint(i, end=\" \")\n",
    "\n",
    "# Print elements of a range\n",
    "# using Slice operation\n",
    "Sliced_array = a[3:8]\n",
    "print(\"\\nSlicing elements in a range 3-8: \")\n",
    "print(Sliced_array)\n",
    "\n",
    "# Print elements from a\n",
    "# pre-defined point to end\n",
    "Sliced_array = a[5:]\n",
    "print(\"\\nElements sliced from 5th \"\n",
    "\t\"element till the end: \")\n",
    "print(Sliced_array)\n",
    "\n",
    "# Printing elements from\n",
    "# beginning till end\n",
    "Sliced_array = a[:]\n",
    "print(\"\\nPrinting all elements using slice operation: \")\n",
    "print(Sliced_array)\n",
    "\n",
    "print(a[-8:-1])"
   ]
  },
  {
   "cell_type": "code",
   "execution_count": 43,
   "id": "11c3b780",
   "metadata": {},
   "outputs": [
    {
     "name": "stdout",
     "output_type": "stream",
     "text": [
      "The new created array is : 1 2 3 1 2 5 \r\n",
      "The index of 1st occurrence of 2 is : 1\n",
      "The index of 1st occurrence of 1 is : 0\n"
     ]
    }
   ],
   "source": [
    "# Python code to demonstrate\n",
    "# searching an element in array\n",
    "\n",
    "\n",
    "# importing array module\n",
    "import array\n",
    "\n",
    "# initializing array with array values\n",
    "# initializes array with signed integers\n",
    "arr = array.array('i', [1, 2, 3, 1, 2, 5])\n",
    "\n",
    "# printing original array\n",
    "print(\"The new created array is : \", end=\"\")\n",
    "for i in range(0, 6):\n",
    "\tprint(arr[i], end=\" \")\n",
    "\n",
    "print(\"\\r\")\n",
    "\n",
    "# using index() to print index of 1st occurrence of 2\n",
    "print(\"The index of 1st occurrence of 2 is : \", end=\"\")\n",
    "print(arr.index(2))\n",
    "\n",
    "# using index() to print index of 1st occurrence of 1\n",
    "print(\"The index of 1st occurrence of 1 is : \", end=\"\")\n",
    "print(arr.index(1))\n"
   ]
  },
  {
   "cell_type": "code",
   "execution_count": 44,
   "id": "b08c63b0",
   "metadata": {},
   "outputs": [
    {
     "name": "stdout",
     "output_type": "stream",
     "text": [
      "Array before updation : 1 2 3 1 2 5 \r\n",
      "Array after updation : 1 2 6 1 2 5 \n",
      "Array after updation : 1 2 6 1 8 5 "
     ]
    }
   ],
   "source": [
    "# Python code to demonstrate\n",
    "# how to update an element in array\n",
    "\n",
    "# importing array module\n",
    "import array\n",
    "\n",
    "# initializing array with array values\n",
    "# initializes array with signed integers\n",
    "arr = array.array('i', [1, 2, 3, 1, 2, 5])\n",
    "\n",
    "# printing original array\n",
    "print(\"Array before updation : \", end=\"\")\n",
    "for i in range(0, 6):\n",
    "\tprint(arr[i], end=\" \")\n",
    "\n",
    "print(\"\\r\")\n",
    "\n",
    "# updating a element in a array\n",
    "arr[2] = 6\n",
    "print(\"Array after updation : \", end=\"\")\n",
    "for i in range(0, 6):\n",
    "\tprint(arr[i], end=\" \")\n",
    "print()\n",
    "\n",
    "# updating a element in a array\n",
    "arr[4] = 8\n",
    "print(\"Array after updation : \", end=\"\")\n",
    "for i in range(0, 6):\n",
    "\tprint(arr[i], end=\" \")\n"
   ]
  },
  {
   "cell_type": "code",
   "execution_count": 90,
   "id": "2ab06d5f",
   "metadata": {},
   "outputs": [
    {
     "name": "stdout",
     "output_type": "stream",
     "text": [
      "Number of occurrences of 2: 3\n"
     ]
    }
   ],
   "source": [
    "import array\n",
    "\n",
    "# Create an array of integers\n",
    "my_array = array.array('i', [1, 2, 3, 4, 2, 5, 2])\n",
    "\n",
    "# Count the number of occurrences of the element 2 in the array\n",
    "count = my_array.count(2)\n",
    "\n",
    "# Print the result\n",
    "print(\"Number of occurrences of 2:\", count)\n"
   ]
  },
  {
   "cell_type": "code",
   "execution_count": 93,
   "id": "3dc49a0d",
   "metadata": {},
   "outputs": [
    {
     "name": "stdout",
     "output_type": "stream",
     "text": [
      "Original array: 1 2 3 4 5\n",
      "Reversed array: 5 4 3 2 1\n"
     ]
    }
   ],
   "source": [
    "import array\n",
    "\n",
    "# Create an array of integers\n",
    "my_array = array.array('i', [1, 2, 3, 4, 5])\n",
    "\n",
    "# Print the original array\n",
    "print(\"Original array:\", *my_array)\n",
    "\n",
    "# Reverse the array in place\n",
    "my_array.reverse()\n",
    "\n",
    "# Print the reversed array\n",
    "print(\"Reversed array:\", *my_array)\n"
   ]
  },
  {
   "cell_type": "code",
   "execution_count": 95,
   "id": "bac45a45",
   "metadata": {},
   "outputs": [
    {
     "name": "stdout",
     "output_type": "stream",
     "text": [
      "The before array extend :  1 2 3 4 5 \n",
      "\n",
      "The array after extend : 1 2 3 4 5 6 7 8 9 10\n",
      "\n"
     ]
    }
   ],
   "source": [
    "#Python program to demonstrate\n",
    "\n",
    "# importing \"array\" for array creations\n",
    "\n",
    "import array as arr \n",
    "\n",
    "# array with int type\n",
    "\n",
    "a = arr.array('i', [1, 2, 3,4,5])\n",
    "\n",
    "#printing original array\n",
    "\n",
    "print(\"The before array extend : \", end =\" \")\n",
    "\n",
    "for i in range (0, 5): \n",
    "    print (a[i], end =\" \")\n",
    "print()\n",
    "\n",
    "#creating an array with using extend method \n",
    "\n",
    "a.extend([6,7,8,9,10])\n",
    "\n",
    "#printing original array\n",
    "\n",
    "print(\"\\nThe array after extend :\",end=\" \")\n",
    "print(*a)\n",
    "\n",
    "# for i in range(0,10): \n",
    "# \tprint(a[i],end=\" \") "
   ]
  },
  {
   "cell_type": "code",
   "execution_count": 99,
   "id": "8556342f",
   "metadata": {},
   "outputs": [
    {
     "name": "stdout",
     "output_type": "stream",
     "text": [
      "The Before extend array is : 1 2 3 4 5 6\n",
      "\n",
      "The After extend array is : 1 2 3 4 5 6 7 8 9 10 11 12 \n",
      "\n",
      "The before extend array is : 2.1 2.2 2.3 2.4 2.5 2.6\n",
      "\n",
      "The after extend array is : 2.1 2.2 2.3 2.4 2.5 2.6 2.6 2.7 2.8 2.9 \n"
     ]
    }
   ],
   "source": [
    "# Creation of Array\n",
    "# importing \"array\" for array creations\n",
    "\n",
    "import array as arr\n",
    "\n",
    "#creating an array with integer type\n",
    "\n",
    "a=arr.array('i',[1,2,3,4,5,6])\n",
    "\n",
    "# printing original array\n",
    "\n",
    "print(\"The Before extend array is :\",end=\" \")\n",
    "print(*a)\n",
    "\n",
    "# for i in range(0,6):\n",
    "#     print(a[i],end=\" \")\n",
    "# print()\n",
    "\n",
    "# creating an array with using extend method\n",
    "\n",
    "a.extend([7,8,9,10,11,12])\n",
    "\n",
    "# printing original array\n",
    "\n",
    "print(\"\\nThe After extend array is :\",end=\" \")\n",
    "\n",
    "for i in range(0,12):\n",
    "\tprint(a[i],end=\" \")\n",
    "print()\n",
    "\n",
    "#array with float type\n",
    "\n",
    "b = arr.array('d', [2.1,2.2,2.3,2.4,2.5,2.6])\n",
    "\n",
    "print(\"\\nThe before extend array is :\",end=\" \")\n",
    "print(*b)\n",
    "\n",
    "# for i in range(0,6):\n",
    "#     print(b[i],end=\" \")\n",
    "# print() \n",
    "\n",
    "#extend function using pass the elements \n",
    "\n",
    "b.extend([2.6,2.7,2.8,2.9])\n",
    "\n",
    "print(\"\\nThe after extend array is :\",end=\" \")\n",
    "\n",
    "for i in range(0,9+1):\n",
    "    print(b[i],end=\" \")\n",
    "\n",
    "print()\n"
   ]
  },
  {
   "cell_type": "code",
   "execution_count": 108,
   "id": "287dc247",
   "metadata": {},
   "outputs": [
    {
     "name": "stdout",
     "output_type": "stream",
     "text": [
      "0 2 4 6 8 10 12 14 16 18 \n",
      "26 52\n"
     ]
    }
   ],
   "source": [
    "import array as arr\n",
    "\n",
    "# search operation in an array using index()\n",
    "x = list(range(0,100,2))\n",
    "search_array = arr.array('i',x)\n",
    "\n",
    "# printing first 10 element\n",
    "for i in search_array[:10]:\n",
    "    print(i,end=\" \")\n",
    "print()\n",
    "\n",
    "# search the number 52 in the array\n",
    "index = search_array.index(52)\n",
    "value = search_array[26]\n",
    "print(index, value)"
   ]
  },
  {
   "cell_type": "code",
   "execution_count": 121,
   "id": "6bb6cc04",
   "metadata": {},
   "outputs": [
    {
     "name": "stdout",
     "output_type": "stream",
     "text": [
      "[98, 96, 94, 92, 90, 88, 86, 84, 82, 80, 78, 76, 74, 72, 70, 68, 66, 64, 62, 60, 58, 56, 54, 52, 50, 48, 46, 44, 42, 40, 38, 36, 34, 32, 30, 28, 26, 24, 22, 20, 18, 16, 14, 12, 10, 8, 6, 4, 2, 0] [0, 2, 4, 6, 8, 10, 12, 14, 16, 18, 20, 22, 24, 26, 28, 30, 32, 34, 36, 38, 40, 42, 44, 46, 48, 50, 52, 54, 56, 58, 60, 62, 64, 66, 68, 70, 72, 74, 76, 78, 80, 82, 84, 86, 88, 90, 92, 94, 96, 98] "
     ]
    }
   ],
   "source": [
    "# sort the array\n",
    "x.sort(reverse=True)\n",
    "print(x,end=\" \")\n",
    "x=x[::-1]\n",
    "print(x,end=\" \")"
   ]
  },
  {
   "cell_type": "code",
   "execution_count": null,
   "id": "ba57a349",
   "metadata": {},
   "outputs": [],
   "source": []
  }
 ],
 "metadata": {
  "kernelspec": {
   "display_name": "Python 3 (ipykernel)",
   "language": "python",
   "name": "python3"
  },
  "language_info": {
   "codemirror_mode": {
    "name": "ipython",
    "version": 3
   },
   "file_extension": ".py",
   "mimetype": "text/x-python",
   "name": "python",
   "nbconvert_exporter": "python",
   "pygments_lexer": "ipython3",
   "version": "3.11.5"
  }
 },
 "nbformat": 4,
 "nbformat_minor": 5
}
